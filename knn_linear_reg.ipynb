{
 "cells": [
  {
   "cell_type": "code",
   "execution_count": 16,
   "metadata": {},
   "outputs": [],
   "source": [
    "#Preprocessing\n",
    "import csv\n",
    "import codecs\n",
    "import numpy as np\n",
    "import matplotlib.pyplot as plt\n",
    "import math\n",
    "\n",
    "samples=[];\n",
    "reader=csv.reader(codecs.open('train.csv', \"r\", encoding=\"utf-8-sig\"), dialect=csv.excel_tab, delimiter=',');\n",
    "for row in reader:\n",
    "    samples.append(row);\n",
    "        \n",
    "del samples[0]\n",
    "samples=np.array(samples)\n",
    "samples=samples.astype(np.float);\n",
    "\n",
    "tests=[];\n",
    "reader=csv.reader(codecs.open('test.csv', \"r\", encoding=\"utf-8-sig\"), dialect=csv.excel_tab, delimiter=',');\n",
    "for row in reader:\n",
    "    tests.append(row);\n",
    "    \n",
    "del tests[0]\n",
    "tests=np.array(tests)\n",
    "tests=tests.astype(np.float);\n",
    "\n",
    "M=np.max(samples,0)-np.min(samples,0);\n",
    "m=np.mean(samples,0);\n",
    "M[-1]=1.0;\n",
    "m[-1]=0.0;\n",
    "\n",
    "normal=(samples-m)/M;\n",
    "tests=(tests-m)/M;"
   ]
  },
  {
   "cell_type": "markdown",
   "metadata": {},
   "source": [
    "## KNN"
   ]
  },
  {
   "cell_type": "code",
   "execution_count": 17,
   "metadata": {},
   "outputs": [],
   "source": [
    "def knn_find(to_class, k, train_list, data):\n",
    "    dists=[];\n",
    "    for i in train_list:\n",
    "        diff=(data[i][:12]-to_class[:12]);\n",
    "        dist=np.sum(diff*diff);\n",
    "        dists.append([dist, i]);\n",
    "    dists.sort(key=lambda dist: dist[0]);\n",
    "    \n",
    "    mp=[0,0];\n",
    "    for i in xrange(min(k, len(train_list))):\n",
    "        mp[data[dists[i][1]][-1]>0.0]+=1;\n",
    "    return mp[1]>mp[0];"
   ]
  },
  {
   "cell_type": "code",
   "execution_count": 19,
   "metadata": {},
   "outputs": [
    {
     "data": {
      "image/png": "[encoded data removed]",
      "text/plain": [
       "<matplotlib.figure.Figure at 0x10f46fd0>"
      ]
     },
     "metadata": {},
     "output_type": "display_data"
    }
   ],
   "source": [
    "#random shuffle the normalized data to do cross validation\n",
    "cross_set=np.array(normal);\n",
    "np.random.shuffle(cross_set)\n",
    "\n",
    "k_fold=4;\n",
    "sub_size=len(cross_set)/k_fold;\n",
    "K=20; # K of KNN\n",
    "step=1;\n",
    "ks=[i for i in range(1,K,step)]\n",
    "rs=[];\n",
    "\n",
    "for k in ks:\n",
    "    cr=0.0;\n",
    "    for i in xrange(k_fold):\n",
    "        validate_set=[j for j in range(i*sub_size,(i+1)*sub_size)];\n",
    "        train_set=[j for j in range(len(cross_set)) if j not in validate_set];\n",
    "        correct=0.0;\n",
    "        for j in validate_set:\n",
    "            cl=knn_find(cross_set[j], k, train_set, cross_set)\n",
    "            if(cl==0 and cross_set[j][-1]==0.0):\n",
    "                correct+=1;\n",
    "            if(cl==1 and cross_set[j][-1]>0):\n",
    "                correct+=1;\n",
    "        cr+=correct/len(validate_set);\n",
    "    rs.append(cr/k_fold);\n",
    "    \n",
    "plt.plot(ks, rs, 'ro');\n",
    "plt.xlabel('K')\n",
    "plt.ylabel('accuracy')\n",
    "plt.title('cross validation of K')\n",
    "plt.show()"
   ]
  },
  {
   "cell_type": "code",
   "execution_count": 23,
   "metadata": {},
   "outputs": [
    {
     "name": "stdout",
     "output_type": "stream",
     "text": [
      "test accuracy:\n",
      "0.647058823529\n"
     ]
    }
   ],
   "source": [
    "#k=14 is chosen for test\n",
    "cr=0.0;\n",
    "for test in tests:\n",
    "    cl=knn_find(test, 14, [i for i in xrange(len(normal))], normal);\n",
    "    if(cl==0 and test[-1]==0.0):\n",
    "        cr+=1;\n",
    "    if(cl==1 and test[-1]>0):\n",
    "        cr+=1;\n",
    "\n",
    "print 'test accuracy:'\n",
    "print cr/len(tests);"
   ]
  },
  {
   "cell_type": "code",
   "execution_count": 24,
   "metadata": {},
   "outputs": [
    {
     "data": {
      "image/png": "[encoded data removed]",
      "text/plain": [
       "<matplotlib.figure.Figure at 0x110fb4f0>"
      ]
     },
     "metadata": {},
     "output_type": "display_data"
    }
   ],
   "source": [
    "#Hamming distance\n",
    "\n",
    "def knn_hamming(to_class, k, train_list, data):\n",
    "    dists=[];\n",
    "    for i in train_list:\n",
    "        diff=(data[i][:12]-to_class[:12]);\n",
    "        dist=np.sum(abs(diff));\n",
    "        dists.append([dist, i]);\n",
    "    dists.sort(key=lambda dist: dist[0]);\n",
    "    \n",
    "    mp=[0,0];\n",
    "    for i in xrange(min(k, len(train_list))):\n",
    "        mp[data[dists[i][1]][-1]>0.0]+=1;\n",
    "    return mp[1]>mp[0];\n",
    "\n",
    "cross_set=np.array(normal);  #for separate the samples to 5 subset, drop off the last sample\n",
    "np.random.shuffle(cross_set)\n",
    "\n",
    "k_fold=4;\n",
    "sub_size=len(cross_set)/k_fold;\n",
    "K=20; # K of KNN\n",
    "step=1;\n",
    "ks=[i for i in range(1,K,step)]\n",
    "rs=[];\n",
    "\n",
    "for k in ks:\n",
    "    cr=0.0;\n",
    "    for i in xrange(k_fold):\n",
    "        validate_set=[j for j in range(i*sub_size,(i+1)*sub_size)];\n",
    "        train_set=[j for j in range(len(cross_set)) if j not in validate_set];\n",
    "        correct=0.0;\n",
    "        for j in validate_set:\n",
    "            cl=knn_hamming(cross_set[j], k, train_set, cross_set)\n",
    "            if(cl==0 and cross_set[j][-1]==0.0):\n",
    "                correct+=1;\n",
    "            if(cl==1 and cross_set[j][-1]>0):\n",
    "                correct+=1;\n",
    "        cr+=correct/len(validate_set);\n",
    "    rs.append(cr/k_fold);\n",
    "    \n",
    "\n",
    "plt.plot(ks, rs, 'ro');\n",
    "plt.xlabel('K')\n",
    "plt.ylabel('accuracy')\n",
    "plt.title('cross validation of K')\n",
    "plt.show()"
   ]
  },
  {
   "cell_type": "code",
   "execution_count": 26,
   "metadata": {},
   "outputs": [
    {
     "name": "stdout",
     "output_type": "stream",
     "text": [
      "test accuracy:\n",
      "0.627450980392\n"
     ]
    }
   ],
   "source": [
    "#k=11 is chosen for test\n",
    "cr=0.0;\n",
    "for test in tests:\n",
    "    cl=knn_hamming(test, 11, [i for i in xrange(len(normal))], normal);\n",
    "    if(cl==0 and test[-1]==0.0):\n",
    "        cr+=1;\n",
    "    if(cl==1 and test[-1]>0):\n",
    "        cr+=1;\n",
    "\n",
    "print 'test accuracy:'\n",
    "print cr/len(tests);"
   ]
  },
  {
   "cell_type": "code",
   "execution_count": 27,
   "metadata": {},
   "outputs": [
    {
     "data": {
      "image/png": "[encoded data removed]",
      "text/plain": [
       "<matplotlib.figure.Figure at 0x10f46fb0>"
      ]
     },
     "metadata": {},
     "output_type": "display_data"
    }
   ],
   "source": [
    "#Histgram of outcome\n",
    "\n",
    "bins = np.linspace(0, 100, 20)\n",
    "plt.hist([i[-1] for i in normal if i[-1]!=0.0], bins, alpha=0.5)\n",
    "plt.xlabel('outcome')\n",
    "plt.ylabel('frequency')\n",
    "plt.title('histogram of outcome')\n",
    "plt.show()"
   ]
  },
  {
   "cell_type": "code",
   "execution_count": 28,
   "metadata": {
    "scrolled": true
   },
   "outputs": [
    {
     "data": {
      "image/png": "[encoded data removed]",
      "text/plain": [
       "<matplotlib.figure.Figure at 0x10f46b10>"
      ]
     },
     "metadata": {},
     "output_type": "display_data"
    }
   ],
   "source": [
    "#Histgram of log(outcome)\n",
    "import math\n",
    "\n",
    "bins = np.linspace(0, 10, 10)\n",
    "plt.hist([math.log(i[-1]) for i in normal if i[-1]!=0.0], bins, alpha=0.5)\n",
    "plt.xlabel('log(outcome)')\n",
    "plt.ylabel('frequency')\n",
    "plt.title('histogram of log(outcome)')\n",
    "plt.show()"
   ]
  },
  {
   "cell_type": "markdown",
   "metadata": {},
   "source": [
    "## Linear Regression\n",
    "\n",
    "According to the lecture, w=(X'X)(-1)X'y"
   ]
  },
  {
   "cell_type": "code",
   "execution_count": 29,
   "metadata": {},
   "outputs": [
    {
     "name": "stdout",
     "output_type": "stream",
     "text": [
      "RSS: 117890.789658\n"
     ]
    }
   ],
   "source": [
    "#use log(y) to do regression\n",
    "\n",
    "from numpy.linalg import inv\n",
    "\n",
    "X=[i[:12] for i in normal if i[-1]>0];\n",
    "y=[math.log(i[12]) for i in normal if i[-1]>0];\n",
    "XT=np.transpose(X);\n",
    "\n",
    "t=np.dot(inv(np.dot(XT, X)),XT);\n",
    "w=np.dot(t, y);\n",
    "\n",
    "test_x=tests[:, 0:12];\n",
    "test_y=tests[:, 12];\n",
    "\n",
    "cal_y=np.exp(np.dot(test_x, w));\n",
    "\n",
    "diff=(cal_y-test_y);\n",
    "RSS=np.sum(diff*diff);\n",
    "\n",
    "print \"RSS:\", RSS"
   ]
  },
  {
   "cell_type": "code",
   "execution_count": 30,
   "metadata": {},
   "outputs": [
    {
     "data": {
      "image/png": "[encoded data removed]",
      "text/plain": [
       "<matplotlib.figure.Figure at 0x10f52a90>"
      ]
     },
     "metadata": {},
     "output_type": "display_data"
    }
   ],
   "source": [
    "#Histgram of sqrt(outcome)\n",
    "import math\n",
    "\n",
    "bins = np.linspace(0, 20, 20)\n",
    "plt.hist([math.pow(i[12],0.5) for i in normal if i[-1]!=0.0], bins, alpha=0.5)\n",
    "plt.xlabel('sqrt(outcome)')\n",
    "plt.ylabel('frequency')\n",
    "plt.title('histogram of sqrt(outcome)')\n",
    "plt.show()"
   ]
  },
  {
   "cell_type": "code",
   "execution_count": 31,
   "metadata": {},
   "outputs": [
    {
     "name": "stdout",
     "output_type": "stream",
     "text": [
      "RSS: 119416.311918\n"
     ]
    }
   ],
   "source": [
    "#use sqrt(y) to do regression\n",
    "\n",
    "from numpy.linalg import inv\n",
    "\n",
    "X=[i[:12] for i in normal if i[-1]>0];\n",
    "y=[math.pow(i[12],0.5) for i in normal if i[12]>0]\n",
    "XT=np.transpose(X);\n",
    "\n",
    "t=np.dot(inv(np.dot(XT, X)),XT);\n",
    "w=np.dot(t, y);\n",
    "\n",
    "test_x=tests[:, 0:12];\n",
    "test_y=tests[:, 12];\n",
    "\n",
    "cal_y=np.dot(test_x, w);\n",
    "cal_y*=cal_y;\n",
    "\n",
    "diff=(cal_y-test_y);\n",
    "RSS=np.sum(diff*diff);\n",
    "\n",
    "print \"RSS:\", RSS"
   ]
  }
 ],
 "metadata": {
  "kernelspec": {
   "display_name": "Python 2",
   "language": "python",
   "name": "python2"
  },
  "language_info": {
   "codemirror_mode": {
    "name": "ipython",
    "version": 2
   },
   "file_extension": ".py",
   "mimetype": "text/x-python",
   "name": "python",
   "nbconvert_exporter": "python",
   "pygments_lexer": "ipython2",
   "version": "2.7.14"
  }
 },
 "nbformat": 4,
 "nbformat_minor": 2
}
